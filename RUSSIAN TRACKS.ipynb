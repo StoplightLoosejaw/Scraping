{
 "cells": [
  {
   "cell_type": "code",
   "execution_count": 1,
   "metadata": {},
   "outputs": [],
   "source": [
    "from bs4 import BeautifulSoup\n",
    "import requests\n",
    "import json\n",
    "import random\n",
    "import time\n",
    "from tqdm import tqdm_notebook as tqdm\n",
    "import pandas as pd\n",
    "from lxml import html\n",
    "import re\n",
    "\n"
   ]
  },
  {
   "cell_type": "code",
   "execution_count": 2,
   "metadata": {},
   "outputs": [],
   "source": [
    "url =  'https://daily.afisha.ru/archive/volna/archive/pop/'\n",
    "meat = requests.get(url).text"
   ]
  },
  {
   "cell_type": "code",
   "execution_count": 3,
   "metadata": {},
   "outputs": [],
   "source": [
    "df_year=[]\n",
    "df_artist=[]\n",
    "df_song=[] \n",
    "soup = BeautifulSoup(meat, 'lxml')\n",
    "cont=soup.body.find('div', class_='g-content').find('div', class_='page').find('article', class_='article article_common').find('ul').find_all('li')\n",
    "for i in cont:\n",
    "    try:\n",
    "        df_artist.append(i.a.text.strip().split('\\n')[0].strip().replace('«','').replace('»','').replace(\"'\",\"\"))\n",
    "        df_song.append(i.a.text.strip().split('\\n')[1].strip().replace('«','').replace('»','').replace(\"'\",\"\"))\n",
    "        df_year.append('1000')\n",
    "    except:\n",
    "        pass"
   ]
  },
  {
   "cell_type": "code",
   "execution_count": 4,
   "metadata": {},
   "outputs": [
    {
     "data": {
      "text/plain": [
       "'Кар-Мэн Лондон, гуд-бай!'"
      ]
     },
     "execution_count": 4,
     "metadata": {},
     "output_type": "execute_result"
    }
   ],
   "source": [
    "df_artist[0]+' '+df_song[0]"
   ]
  },
  {
   "cell_type": "code",
   "execution_count": 5,
   "metadata": {},
   "outputs": [
    {
     "data": {
      "application/vnd.jupyter.widget-view+json": {
       "model_id": "bb013147c06b493cb33f9f30afd3e4f8",
       "version_major": 2,
       "version_minor": 0
      },
      "text/plain": [
       "HBox(children=(IntProgress(value=0, max=99), HTML(value='')))"
      ]
     },
     "metadata": {},
     "output_type": "display_data"
    },
    {
     "name": "stderr",
     "output_type": "stream",
     "text": [
      "C:\\Users\\Tom\\Anaconda3\\lib\\site-packages\\urllib3\\connectionpool.py:847: InsecureRequestWarning: Unverified HTTPS request is being made. Adding certificate verification is strongly advised. See: https://urllib3.readthedocs.io/en/latest/advanced-usage.html#ssl-warnings\n",
      "  InsecureRequestWarning)\n"
     ]
    },
    {
     "name": "stdout",
     "output_type": "stream",
     "text": [
      "\n"
     ]
    }
   ],
   "source": [
    "df_lyrics_track=[]\n",
    "df_lyrics=[]\n",
    "df_genre=[]\n",
    "\n",
    "for i in tqdm(range(0,len(df_artist))):\n",
    "    song=df_song[i]\n",
    "    meat = requests.get('https://www.google.com/search?q={}&ie=utf-8&oe=utf-8'.format(df_artist[i]+' '+df_song[i]+ 'текст megalyrics'))\n",
    "    page=BeautifulSoup(meat.text)\n",
    "    for i in page.body.find_all('div'):\n",
    "        try:\n",
    "            z = i.a['href'].split('/url?q=')[-1]\n",
    "            if 'megalyrics.ru/lyric/' in z:\n",
    "                break\n",
    "        except:\n",
    "            pass\n",
    "    proxies = {'https': 'socks5h://198.27.75.152:1080', 'http': 'socks5h://198.27.75.152:1080'}\n",
    "    meat = requests.get(z, verify=False, proxies=proxies).text\n",
    "    page=BeautifulSoup(meat)\n",
    "    d=page.find('div', class_=\"text_inner\")\n",
    "    d1=re.sub(r'<br/*?>', '\\n', str(d))\n",
    "    d1=BeautifulSoup(d1).text\n",
    "    df_lyrics_track.append(song)\n",
    "    df_lyrics.append(d1)\n",
    "    df_genre.append('Русские треки')"
   ]
  },
  {
   "cell_type": "code",
   "execution_count": 6,
   "metadata": {},
   "outputs": [
    {
     "data": {
      "text/html": [
       "<div>\n",
       "<style scoped>\n",
       "    .dataframe tbody tr th:only-of-type {\n",
       "        vertical-align: middle;\n",
       "    }\n",
       "\n",
       "    .dataframe tbody tr th {\n",
       "        vertical-align: top;\n",
       "    }\n",
       "\n",
       "    .dataframe thead th {\n",
       "        text-align: right;\n",
       "    }\n",
       "</style>\n",
       "<table border=\"1\" class=\"dataframe\">\n",
       "  <thead>\n",
       "    <tr style=\"text-align: right;\">\n",
       "      <th></th>\n",
       "      <th>track</th>\n",
       "      <th>lyrics</th>\n",
       "      <th>genre</th>\n",
       "    </tr>\n",
       "  </thead>\n",
       "  <tbody>\n",
       "    <tr>\n",
       "      <th>94</th>\n",
       "      <td>Режиссер</td>\n",
       "      <td>Я закрою за собою, ты сказала \"я не стою\"\\nЯ п...</td>\n",
       "      <td>Русские треки</td>\n",
       "    </tr>\n",
       "    <tr>\n",
       "      <th>95</th>\n",
       "      <td>Любовь спасет мир</td>\n",
       "      <td>Мир, в котором я живу, не делится на части \\nП...</td>\n",
       "      <td>Русские треки</td>\n",
       "    </tr>\n",
       "    <tr>\n",
       "      <th>96</th>\n",
       "      <td>Прованс</td>\n",
       "      <td>Уютное кафе на улицах сплетённой мебелью\\nГде ...</td>\n",
       "      <td>Русские треки</td>\n",
       "    </tr>\n",
       "    <tr>\n",
       "      <th>97</th>\n",
       "      <td>Больно</td>\n",
       "      <td>Сколько можно искать тебя,\\nСколько можно теря...</td>\n",
       "      <td>Русские треки</td>\n",
       "    </tr>\n",
       "    <tr>\n",
       "      <th>98</th>\n",
       "      <td>Чумачечая весна</td>\n",
       "      <td>Пришла и оторвала голову нам чумачечая весна\\n...</td>\n",
       "      <td>Русские треки</td>\n",
       "    </tr>\n",
       "  </tbody>\n",
       "</table>\n",
       "</div>"
      ],
      "text/plain": [
       "                track                                             lyrics  \\\n",
       "94           Режиссер  Я закрою за собою, ты сказала \"я не стою\"\\nЯ п...   \n",
       "95  Любовь спасет мир  Мир, в котором я живу, не делится на части \\nП...   \n",
       "96            Прованс  Уютное кафе на улицах сплетённой мебелью\\nГде ...   \n",
       "97             Больно  Сколько можно искать тебя,\\nСколько можно теря...   \n",
       "98    Чумачечая весна  Пришла и оторвала голову нам чумачечая весна\\n...   \n",
       "\n",
       "            genre  \n",
       "94  Русские треки  \n",
       "95  Русские треки  \n",
       "96  Русские треки  \n",
       "97  Русские треки  \n",
       "98  Русские треки  "
      ]
     },
     "execution_count": 6,
     "metadata": {},
     "output_type": "execute_result"
    }
   ],
   "source": [
    "lyrics_df = pd.DataFrame({'track': df_lyrics_track,\n",
    "'lyrics': df_lyrics,\n",
    "'genre': df_genre\n",
    "})\n",
    "lyrics_df.tail()\n",
    " "
   ]
  },
  {
   "cell_type": "code",
   "execution_count": 7,
   "metadata": {},
   "outputs": [
    {
     "data": {
      "text/html": [
       "<div>\n",
       "<style scoped>\n",
       "    .dataframe tbody tr th:only-of-type {\n",
       "        vertical-align: middle;\n",
       "    }\n",
       "\n",
       "    .dataframe tbody tr th {\n",
       "        vertical-align: top;\n",
       "    }\n",
       "\n",
       "    .dataframe thead th {\n",
       "        text-align: right;\n",
       "    }\n",
       "</style>\n",
       "<table border=\"1\" class=\"dataframe\">\n",
       "  <thead>\n",
       "    <tr style=\"text-align: right;\">\n",
       "      <th></th>\n",
       "      <th>year</th>\n",
       "      <th>artist</th>\n",
       "      <th>track</th>\n",
       "    </tr>\n",
       "  </thead>\n",
       "  <tbody>\n",
       "    <tr>\n",
       "      <th>94</th>\n",
       "      <td>1000</td>\n",
       "      <td>Градусы</td>\n",
       "      <td>Режиссер</td>\n",
       "    </tr>\n",
       "    <tr>\n",
       "      <th>95</th>\n",
       "      <td>1000</td>\n",
       "      <td>Вера Брежнева</td>\n",
       "      <td>Любовь спасет мир</td>\n",
       "    </tr>\n",
       "    <tr>\n",
       "      <th>96</th>\n",
       "      <td>1000</td>\n",
       "      <td>Елка</td>\n",
       "      <td>Прованс</td>\n",
       "    </tr>\n",
       "    <tr>\n",
       "      <th>97</th>\n",
       "      <td>1000</td>\n",
       "      <td>Нюша</td>\n",
       "      <td>Больно</td>\n",
       "    </tr>\n",
       "    <tr>\n",
       "      <th>98</th>\n",
       "      <td>1000</td>\n",
       "      <td>Потап и Настя</td>\n",
       "      <td>Чумачечая весна</td>\n",
       "    </tr>\n",
       "  </tbody>\n",
       "</table>\n",
       "</div>"
      ],
      "text/plain": [
       "    year         artist              track\n",
       "94  1000        Градусы           Режиссер\n",
       "95  1000  Вера Брежнева  Любовь спасет мир\n",
       "96  1000           Елка            Прованс\n",
       "97  1000           Нюша             Больно\n",
       "98  1000  Потап и Настя    Чумачечая весна"
      ]
     },
     "execution_count": 7,
     "metadata": {},
     "output_type": "execute_result"
    }
   ],
   "source": [
    "tracks = pd.DataFrame({'year': df_year[0:99],\n",
    "'artist': df_artist,\n",
    "'track': df_song,\n",
    "})\n",
    "tracks.tail()"
   ]
  },
  {
   "cell_type": "code",
   "execution_count": null,
   "metadata": {},
   "outputs": [],
   "source": [
    "from sqlalchemy import create_engine\n",
    "engine = create_engine('KEY')\n",
    "lyrics_df.loc[lyrics_df['lyrics']!='FAILURE'].to_sql('LYRICS', engine, if_exists='append')"
   ]
  },
  {
   "cell_type": "code",
   "execution_count": null,
   "metadata": {},
   "outputs": [],
   "source": [
    "from sqlalchemy import create_engine\n",
    "engine = create_engine('KEY')\n",
    "tracks.to_sql('TRACKS', engine, if_exists='append')d"
   ]
  }
 ],
 "metadata": {
  "kernelspec": {
   "display_name": "Python 3",
   "language": "python",
   "name": "python3"
  },
  "language_info": {
   "codemirror_mode": {
    "name": "ipython",
    "version": 3
   },
   "file_extension": ".py",
   "mimetype": "text/x-python",
   "name": "python",
   "nbconvert_exporter": "python",
   "pygments_lexer": "ipython3",
   "version": "3.6.8"
  }
 },
 "nbformat": 4,
 "nbformat_minor": 2
}
